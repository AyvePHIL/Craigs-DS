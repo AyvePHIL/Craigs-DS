{
 "cells": [
  {
   "cell_type": "markdown",
   "id": "novel-british",
   "metadata": {},
   "source": [
    "# Instructions\n",
    "\n",
    "Answer the questions and perform any additional analysis you think will help you understand what's going on in the data. You will be required to present your work, you can use this notebook or create slides based on your analysis. Whatever you’re comfortable with is fine with us.\n",
    "\n",
    "The section headings below are only a guide and this notebook should be modified as you see fit."
   ]
  },
  {
   "cell_type": "markdown",
   "id": "material-peripheral",
   "metadata": {},
   "source": [
    "# 1. Data processing"
   ]
  },
  {
   "cell_type": "code",
   "execution_count": 1,
   "id": "material-silly",
   "metadata": {},
   "outputs": [
    {
     "data": {
      "text/html": [
       "<div>\n",
       "<style scoped>\n",
       "    .dataframe tbody tr th:only-of-type {\n",
       "        vertical-align: middle;\n",
       "    }\n",
       "\n",
       "    .dataframe tbody tr th {\n",
       "        vertical-align: top;\n",
       "    }\n",
       "\n",
       "    .dataframe thead th {\n",
       "        text-align: right;\n",
       "    }\n",
       "</style>\n",
       "<table border=\"1\" class=\"dataframe\">\n",
       "  <thead>\n",
       "    <tr style=\"text-align: right;\">\n",
       "      <th></th>\n",
       "      <th>Country</th>\n",
       "      <th>Region</th>\n",
       "      <th>Population</th>\n",
       "      <th>Under15</th>\n",
       "      <th>Over60</th>\n",
       "      <th>FertilityRate</th>\n",
       "      <th>LifeExpectancy</th>\n",
       "      <th>ChildMortality</th>\n",
       "      <th>CellularSubscribers</th>\n",
       "      <th>LiteracyRate</th>\n",
       "      <th>GNI</th>\n",
       "      <th>PrimarySchoolEnrollmentMale</th>\n",
       "      <th>PrimarySchoolEnrollmentFemale</th>\n",
       "    </tr>\n",
       "  </thead>\n",
       "  <tbody>\n",
       "    <tr>\n",
       "      <th>4</th>\n",
       "      <td>Angola</td>\n",
       "      <td>Africa</td>\n",
       "      <td>20821</td>\n",
       "      <td>47.58</td>\n",
       "      <td>3.84</td>\n",
       "      <td>6.10</td>\n",
       "      <td>51</td>\n",
       "      <td>163.5</td>\n",
       "      <td>48.38</td>\n",
       "      <td>70.1</td>\n",
       "      <td>5230.0</td>\n",
       "      <td>93.1</td>\n",
       "      <td>78.2</td>\n",
       "    </tr>\n",
       "    <tr>\n",
       "      <th>5</th>\n",
       "      <td>Antigua and Barbuda</td>\n",
       "      <td>Americas</td>\n",
       "      <td>89</td>\n",
       "      <td>25.96</td>\n",
       "      <td>12.35</td>\n",
       "      <td>2.12</td>\n",
       "      <td>75</td>\n",
       "      <td>9.9</td>\n",
       "      <td>196.41</td>\n",
       "      <td>99.0</td>\n",
       "      <td>17900.0</td>\n",
       "      <td>91.1</td>\n",
       "      <td>84.5</td>\n",
       "    </tr>\n",
       "    <tr>\n",
       "      <th>21</th>\n",
       "      <td>Bosnia and Herzegovina</td>\n",
       "      <td>Europe</td>\n",
       "      <td>3834</td>\n",
       "      <td>16.35</td>\n",
       "      <td>20.52</td>\n",
       "      <td>1.26</td>\n",
       "      <td>76</td>\n",
       "      <td>6.7</td>\n",
       "      <td>84.52</td>\n",
       "      <td>97.9</td>\n",
       "      <td>9190.0</td>\n",
       "      <td>86.5</td>\n",
       "      <td>88.4</td>\n",
       "    </tr>\n",
       "    <tr>\n",
       "      <th>31</th>\n",
       "      <td>Cape Verde</td>\n",
       "      <td>Africa</td>\n",
       "      <td>494</td>\n",
       "      <td>30.17</td>\n",
       "      <td>7.05</td>\n",
       "      <td>2.38</td>\n",
       "      <td>72</td>\n",
       "      <td>22.2</td>\n",
       "      <td>79.19</td>\n",
       "      <td>84.3</td>\n",
       "      <td>3980.0</td>\n",
       "      <td>94.6</td>\n",
       "      <td>92.4</td>\n",
       "    </tr>\n",
       "    <tr>\n",
       "      <th>32</th>\n",
       "      <td>Central African Republic</td>\n",
       "      <td>Africa</td>\n",
       "      <td>4525</td>\n",
       "      <td>40.07</td>\n",
       "      <td>5.74</td>\n",
       "      <td>4.54</td>\n",
       "      <td>48</td>\n",
       "      <td>128.6</td>\n",
       "      <td>40.65</td>\n",
       "      <td>56.0</td>\n",
       "      <td>810.0</td>\n",
       "      <td>81.3</td>\n",
       "      <td>60.6</td>\n",
       "    </tr>\n",
       "  </tbody>\n",
       "</table>\n",
       "</div>"
      ],
      "text/plain": [
       "                     Country    Region  Population  Under15  Over60  \\\n",
       "4                     Angola    Africa       20821    47.58    3.84   \n",
       "5        Antigua and Barbuda  Americas          89    25.96   12.35   \n",
       "21    Bosnia and Herzegovina    Europe        3834    16.35   20.52   \n",
       "31                Cape Verde    Africa         494    30.17    7.05   \n",
       "32  Central African Republic    Africa        4525    40.07    5.74   \n",
       "\n",
       "    FertilityRate  LifeExpectancy  ChildMortality  CellularSubscribers  \\\n",
       "4            6.10              51           163.5                48.38   \n",
       "5            2.12              75             9.9               196.41   \n",
       "21           1.26              76             6.7                84.52   \n",
       "31           2.38              72            22.2                79.19   \n",
       "32           4.54              48           128.6                40.65   \n",
       "\n",
       "    LiteracyRate      GNI  PrimarySchoolEnrollmentMale  \\\n",
       "4           70.1   5230.0                         93.1   \n",
       "5           99.0  17900.0                         91.1   \n",
       "21          97.9   9190.0                         86.5   \n",
       "31          84.3   3980.0                         94.6   \n",
       "32          56.0    810.0                         81.3   \n",
       "\n",
       "    PrimarySchoolEnrollmentFemale  \n",
       "4                            78.2  \n",
       "5                            84.5  \n",
       "21                           88.4  \n",
       "31                           92.4  \n",
       "32                           60.6  "
      ]
     },
     "metadata": {},
     "output_type": "display_data"
    },
    {
     "name": "stdout",
     "output_type": "stream",
     "text": [
      "Country                          0\n",
      "Region                           0\n",
      "Population                       0\n",
      "Under15                          0\n",
      "Over60                           0\n",
      "FertilityRate                    0\n",
      "LifeExpectancy                   0\n",
      "ChildMortality                   0\n",
      "CellularSubscribers              0\n",
      "LiteracyRate                     0\n",
      "GNI                              0\n",
      "PrimarySchoolEnrollmentMale      0\n",
      "PrimarySchoolEnrollmentFemale    0\n",
      "dtype: int64\n"
     ]
    }
   ],
   "source": [
    "# Working packages\n",
    "import plotly.express as px\n",
    "import pandas as pd\n",
    "import numpy as np\n",
    "import pandas_profiling\n",
    "from IPython.display import display\n",
    "from pandas_profiling import ProfileReport\n",
    "\n",
    "#DATA PROCESSING\n",
    "df = pd.read_csv(\"data.csv\")\n",
    "# display(df.head(5))\n",
    "\n",
    "#check number of empty or missing values in each column\n",
    "craig = df.isnull().sum()\n",
    "# print(craig)\n",
    "\n",
    "df2 = df.dropna()\n",
    "\n",
    "display(df2.head(5))\n",
    "print(df2.isnull().sum())\n"
   ]
  },
  {
   "cell_type": "markdown",
   "id": "cheap-navigation",
   "metadata": {},
   "source": [
    "# 2. Exploratory data analysis"
   ]
  },
  {
   "cell_type": "code",
   "execution_count": 2,
   "id": "grateful-blend",
   "metadata": {},
   "outputs": [
    {
     "name": "stdout",
     "output_type": "stream",
     "text": [
      "85    3: Therefore the country is Japan\n",
      "Name: Country, dtype: object\n"
     ]
    }
   ],
   "source": [
    "fig = px.scatter(x=df[\"Country\"], y=df[\"Under15\"])\n",
    "# fig.show()\n",
    "df_find_country = df.loc[df['Under15'] == min(df['Under15'])]\n",
    "\n",
    "print(\"3: Therefore the country is \" + df_find_country['Country'])\n"
   ]
  },
  {
   "cell_type": "markdown",
   "id": "interpreted-hurricane",
   "metadata": {},
   "source": [
    "# 3. Conclusion and insights "
   ]
  },
  {
   "cell_type": "markdown",
   "id": "actual-marketplace",
   "metadata": {},
   "source": [
    "### Craig is such as sucker! "
   ]
  }
 ],
 "metadata": {
  "kernelspec": {
   "display_name": "Python 3",
   "language": "python",
   "name": "python3"
  },
  "language_info": {
   "codemirror_mode": {
    "name": "ipython",
    "version": 3
   },
   "file_extension": ".py",
   "mimetype": "text/x-python",
   "name": "python",
   "nbconvert_exporter": "python",
   "pygments_lexer": "ipython3",
   "version": "3.9.7"
  }
 },
 "nbformat": 4,
 "nbformat_minor": 5
}
